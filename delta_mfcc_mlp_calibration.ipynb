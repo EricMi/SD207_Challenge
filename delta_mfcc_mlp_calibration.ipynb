{
 "cells": [
  {
   "cell_type": "markdown",
   "metadata": {},
   "source": [
    "# Challenge SD207 - 2017\n",
    "*<p>Author: Pengfei MI, Rui SONG</p>*\n",
    "*<p>Date: 06/06/2017</p>*"
   ]
  },
  {
   "cell_type": "code",
   "execution_count": 1,
   "metadata": {
    "collapsed": false
   },
   "outputs": [],
   "source": [
    "import os\n",
    "import numpy as np\n",
    "import scipy as sp\n",
    "from scipy.stats import mode\n",
    "import pandas as pd\n",
    "import matplotlib.pyplot as plt\n",
    "from time import time\n",
    "\n",
    "import librosa\n",
    "import librosa.display\n",
    "\n",
    "from sklearn.preprocessing import StandardScaler\n",
    "from sklearn.decomposition import PCA\n",
    "from sklearn.neural_network import MLPClassifier\n",
    "from sklearn.model_selection import GridSearchCV\n",
    "from sklearn.metrics import classification_report\n",
    "from sklearn.ensemble import BaggingClassifier\n",
    "\n",
    "FILEROOT = '/tsi/plato/sons/sd207/'"
   ]
  },
  {
   "cell_type": "code",
   "execution_count": 2,
   "metadata": {
    "collapsed": true
   },
   "outputs": [],
   "source": [
    "# Define some usefull functions\n",
    "def load_sound_file(file_path):\n",
    "    X, sr = librosa.load(os.path.join(FILEROOT, file_path), sr=None)\n",
    "    return X\n",
    "\n",
    "def extract_feature(file_name): # Late fusion\n",
    "    X, sample_rate = librosa.load(os.path.join(FILEROOT, file_name), sr=None)\n",
    "    #mfcc = librosa.feature.mfcc(y=librosa.effects.harmonic(X), sr=sample_rate, n_fft=4096, hop_length=2048, n_mfcc=n_mfcc).T\n",
    "    mfcc = librosa.feature.mfcc(y=X, sr=sample_rate, n_fft=4096, hop_length=2048, n_mfcc=n_mfcc).T\n",
    "    mfcc_delta = librosa.feature.delta(mfcc, width=5, order=1, trim=True)\n",
    "    return mfcc, mfcc_delta\n",
    "\n",
    "def parse_audio_files(file_names, file_labels):\n",
    "    mfcc_features, mfcc_delta_features, labels = np.empty((0,n_mfcc)), np.empty((0,n_mfcc)), np.empty(0)\n",
    "    for fn, fl in zip(file_names, file_labels):\n",
    "        try:\n",
    "            mfcc, mfcc_delta = extract_feature(fn)\n",
    "        except Exception as e:\n",
    "            print \"Error encountered while parsing file: \", fn\n",
    "            continue\n",
    "        mfcc_features, mfcc_delta_features = np.vstack([mfcc_features, mfcc]), np.vstack([mfcc_delta_features, mfcc_delta])\n",
    "        labels = np.append(labels, fl*np.ones(mfcc.shape[0]))\n",
    "    return np.array(mfcc_features), mfcc_delta_features, np.array(labels, dtype = np.int)\n",
    "\n",
    "def predict(clf, X_test):\n",
    "    y_pred = np.empty(0)\n",
    "    y_pred_sum = np.empty(0)\n",
    "    y_pred_prod = np.empty(0)\n",
    "    for x in X_test:\n",
    "        x_mfccs = extract_feature(x)\n",
    "        y_predicts = clf.predict(x_mfccs)\n",
    "        y_predict_probas = clf.predict_proba(x_mfccs)\n",
    "        y_pred = np.append(y_pred, mode(y_predicts).mode[0])\n",
    "        y_pred_sum = np.append(y_pred_sum, np.argmax(np.sum(y_predict_probas, axis=0)))\n",
    "        y_pred_prod = np.append(y_pred_prod, np.argmax(np.prod(y_predict_probas, axis=0)))\n",
    "    return np.array(y_pred, dtype=np.int), np.array(y_pred_sum, dtype=np.int), np.array(y_pred_prod, dtype=np.int)\n",
    "\n",
    "def predict_maj(clf, X_test):\n",
    "    y_pred = np.empty(0)\n",
    "    for x in X_test:\n",
    "        x_mfccs = extract_feature(x)\n",
    "        y_predicts = clf.predict(x_mfccs)\n",
    "        y_pred = np.append(y_pred, mode(y_predicts).mode[0])\n",
    "    return np.array(y_pred, dtype = np.int)\n",
    "\n",
    "def predict_sum(clf, X_test):\n",
    "    y_pred = np.empty(0)\n",
    "    for x in X_test:\n",
    "        x_mfccs = extract_feature(x)\n",
    "        y_predicts = np.sum(clf.predict_proba(x_mfccs), axis=0)\n",
    "        y_pred = np.append(y_pred, np.argmax(y_predicts))\n",
    "    return np.array(y_pred, dtype = np.int)\n",
    "\n",
    "def predict_prod(clf, X_test):\n",
    "    y_pred = np.empty(0)\n",
    "    for x in X_test:\n",
    "        x_mfccs = extract_feature(x)\n",
    "        y_predicts = np.prod(clf.predict_proba(x_mfccs), axis=0)\n",
    "        y_pred = np.append(y_pred, np.argmax(y_predicts))\n",
    "    return np.array(y_pred, dtype = np.int)\n",
    "\n",
    "def plot_wave(title, raw_sound):\n",
    "    plt.close('all')\n",
    "    plt.figure(figsize=(20,6))\n",
    "    plt.title(title)\n",
    "    librosa.display.waveplot(np.array(raw_sound), sr=16000)\n",
    "    plt.show()\n",
    "    \n",
    "def plot_specgram(title,raw_sound):\n",
    "    plt.close('all')\n",
    "    plt.figure(figsize=(20,6))\n",
    "    plt.title(title)\n",
    "    plt.specgram(np.array(raw_sound), Fs=16000)\n",
    "    plt.show()\n",
    "\n",
    "def plot_log_power_specgram(title,raw_sound):\n",
    "    plt.close('all')\n",
    "    plt.figure(figsize=(20,6))\n",
    "    plt.title(title)\n",
    "    D = librosa.logamplitude(np.abs(librosa.stft(raw_sound))**2, ref_power=np.max)\n",
    "    librosa.display.specshow(D, x_axis='time' ,y_axis='log')\n",
    "    plt.specgram(np.array(f), Fs=16000)\n",
    "    plt.show()"
   ]
  },
  {
   "cell_type": "code",
   "execution_count": 3,
   "metadata": {
    "collapsed": false
   },
   "outputs": [
    {
     "name": "stdout",
     "output_type": "stream",
     "text": [
      "Loading files...\n",
      "Training set size: 582\n",
      "Validation set size: 290\n",
      "Test set size: 298\n",
      "Done in 0.007s.\n"
     ]
    }
   ],
   "source": [
    "# Read data and preprocessing\n",
    "print \"Loading files...\"\n",
    "t0 = time()\n",
    "files_train = pd.read_csv('train.txt', sep='\\s+', header=None)[0].values\n",
    "labels = np.unique(pd.read_csv('train.txt', sep='\\s+', header=None)[1])\n",
    "n_labels = len(labels)\n",
    "labels_train = pd.factorize(pd.read_csv('train.txt', sep='\\s+', header=None)[1])[0]\n",
    "files_val = pd.read_csv('dev.txt', sep='\\s+', header=None)[0].values\n",
    "labels_val = pd.factorize(pd.read_csv('dev.txt', sep='\\s+', header=None)[1])[0]\n",
    "files_test = pd.read_csv('test_files.txt', header=None)[0].values\n",
    "\n",
    "print \"Training set size: %d\" % len(files_train)\n",
    "print \"Validation set size: %d\" % len(files_val)\n",
    "print \"Test set size: %d\" % len(files_test)\n",
    "print \"Done in %0.3fs.\" % (time()-t0)"
   ]
  },
  {
   "cell_type": "code",
   "execution_count": null,
   "metadata": {
    "collapsed": false,
    "scrolled": false
   },
   "outputs": [],
   "source": [
    "y = load_sound_file(files_train[42])\n",
    "y_harmonic, y_percussive = librosa.effects.hpss(y)\n",
    "plot_wave(\"%s: original signal\" % labels[labels_train[42]], y)\n",
    "plot_wave(\"%s: harmonic signal\" % labels[labels_train[42]], y_harmonic)\n",
    "plot_wave(\"%s: percussive signal\" % labels[labels_train[42]], y_percussive)"
   ]
  },
  {
   "cell_type": "code",
   "execution_count": null,
   "metadata": {
    "collapsed": false
   },
   "outputs": [],
   "source": [
    "# Feature extraction\n",
    "print \"Extracting features...\"\n",
    "n_mfcc = 40\n",
    "t0 = time()\n",
    "X_mfcc, X_mfcc_delta, y_train = parse_audio_files(files_train, labels_train)\n",
    "print X_train.shape, y_train.shape\n",
    "print \"Done in %0.3fs.\" % (time()-t0)"
   ]
  },
  {
   "cell_type": "code",
   "execution_count": null,
   "metadata": {
    "collapsed": false,
    "scrolled": false
   },
   "outputs": [],
   "source": [
    "# Train classifier\n",
    "print \"Training classifier...\"\n",
    "np.random.seed(42)\n",
    "t0 = time()\n",
    "clf1 = MLPClassifier(hidden_layer_sizes=(40), alpha=0.1)\n",
    "clf1.fit(X_mfcc, y_train)\n",
    "\n",
    "clf2 = MLPClassifier(hidden_layer_sizes=(40), alpha=0.1)\n",
    "clf2.fit(X_mfcc_delta, y_train)\n",
    "print \"Done in %0.3fs.\" % (time()-t0)"
   ]
  },
  {
   "cell_type": "code",
   "execution_count": null,
   "metadata": {
    "collapsed": false
   },
   "outputs": [],
   "source": [
    "# Predicting on validation set...\n",
    "t0 = time()\n",
    "print \"Prediction result via mfcc features:\"\n",
    "y_val_pred, y_val_pred_sum, y_val_pred_prod = predict(clf1, files_val)\n",
    "print \"Score on validation test (vote by majority): %f\" % np.mean(y_val_pred == labels_val)\n",
    "print classification_report(labels_val, y_val_pred, target_names=labels)\n",
    "\n",
    "print \"Score on validation test (vote by proba sum): %f\" % np.mean(y_val_pred_sum == labels_val)\n",
    "print classification_report(labels_val, y_val_pred_sum, target_names=labels)\n",
    "\n",
    "print \"Score on validation test (vote by proba product): %f\" % np.mean(y_val_pred_prod == labels_val)\n",
    "print classification_report(labels_val, y_val_pred_prod, target_names=labels)\n",
    "\n",
    "print \"Prediction result via mfcc delta features:\"\n",
    "y_val_pred, y_val_pred_sum, y_val_pred_prod = predict(clf2, files_val)\n",
    "print \"Score on validation test (vote by majority): %f\" % np.mean(y_val_pred == labels_val)\n",
    "print classification_report(labels_val, y_val_pred, target_names=labels)\n",
    "\n",
    "print \"Score on validation test (vote by proba sum): %f\" % np.mean(y_val_pred_sum == labels_val)\n",
    "print classification_report(labels_val, y_val_pred_sum, target_names=labels)\n",
    "\n",
    "print \"Score on validation test (vote by proba product): %f\" % np.mean(y_val_pred_prod == labels_val)\n",
    "print classification_report(labels_val, y_val_pred_prod, target_names=labels)\n",
    "\n",
    "\"\"\"print \"Prediction result via mfcc and mfcc delta calibration:\"\n",
    "y_val_pred, y_val_pred_sum, y_val_pred_prod = predict_calibration(clf1, clf2, files_val)\n",
    "print \"Score on validation test (vote by majority): %f\" % np.mean(y_val_pred == labels_val)\n",
    "print classification_report(labels_val, y_val_pred, target_names=labels)\n",
    "\n",
    "print \"Score on validation test (vote by proba sum): %f\" % np.mean(y_val_pred_sum == labels_val)\n",
    "print classification_report(labels_val, y_val_pred_sum, target_names=labels)\n",
    "\n",
    "print \"Score on validation test (vote by proba product): %f\" % np.mean(y_val_pred_prod == labels_val)\n",
    "print classification_report(labels_val, y_val_pred_prod, target_names=labels)\"\"\"\n",
    "print \"Done in %0.3fs.\" % (time()-t0)"
   ]
  },
  {
   "cell_type": "code",
   "execution_count": null,
   "metadata": {
    "collapsed": false
   },
   "outputs": [],
   "source": [
    "y_test_pred, y_test_pred_sum, y_test_pred_prod = predict(clf, files_test)\n",
    "np.savetxt('y_test_pred_delta_mfcc_mlp.txt', y_test_pred, fmt='%d')\n",
    "np.savetxt('y_test_pred_delta_mfcc_mlp_sum.txt', y_test_pred_sum, fmt='%d')\n",
    "np.savetxt('y_test_pred_delta_mfcc_mlp_prod.txt', y_test_pred_prod, fmt='%d')\n",
    "print y_test_pred"
   ]
  }
 ],
 "metadata": {
  "kernelspec": {
   "display_name": "Python 2",
   "language": "python",
   "name": "python2"
  },
  "language_info": {
   "codemirror_mode": {
    "name": "ipython",
    "version": 2
   },
   "file_extension": ".py",
   "mimetype": "text/x-python",
   "name": "python",
   "nbconvert_exporter": "python",
   "pygments_lexer": "ipython2",
   "version": "2.7.12"
  }
 },
 "nbformat": 4,
 "nbformat_minor": 2
}
