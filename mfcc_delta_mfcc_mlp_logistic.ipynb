{
 "cells": [
  {
   "cell_type": "markdown",
   "metadata": {},
   "source": [
    "# Challenge SD207 - 2017\n",
    "*<p>Author: Pengfei MI, Rui SONG</p>*\n",
    "*<p>Date: 06/06/2017</p>*"
   ]
  },
  {
   "cell_type": "code",
   "execution_count": 50,
   "metadata": {
    "collapsed": false
   },
   "outputs": [],
   "source": [
    "import numpy as np\n",
    "import scipy as sp\n",
    "from scipy.stats import mode\n",
    "import pandas as pd\n",
    "import matplotlib.pyplot as plt\n",
    "from time import time\n",
    "\n",
    "import librosa\n",
    "import librosa.display\n",
    "\n",
    "from sklearn.preprocessing import StandardScaler\n",
    "from sklearn.decomposition import PCA\n",
    "from sklearn.neural_network import MLPClassifier\n",
    "from sklearn.model_selection import GridSearchCV\n",
    "from sklearn.metrics import classification_report\n",
    "from sklearn.ensemble import BaggingClassifier\n",
    "from sklearn import linear_model\n",
    "from sklearn.discriminant_analysis import LinearDiscriminantAnalysis\n",
    "from sklearn.svm import SVC"
   ]
  },
  {
   "cell_type": "code",
   "execution_count": 51,
   "metadata": {
    "collapsed": false
   },
   "outputs": [],
   "source": [
    "# Define some usefull functions\n",
    "def load_sound_file(file_path):\n",
    "    X, sr = librosa.load(file_path, sr=None)\n",
    "    return X\n",
    "\n",
    "def extract_feature(file_name): # Late fusion\n",
    "    X, sample_rate = librosa.load(file_name, sr=None)\n",
    "    #mfcc = librosa.feature.mfcc(y=librosa.effects.harmonic(X), sr=sample_rate, n_fft=4096, hop_length=2048, n_mfcc=n_mfcc).T\n",
    "    mfcc = librosa.feature.mfcc(y=X, sr=sample_rate, n_fft=4096, hop_length=2048, n_mfcc=n_mfcc).T\n",
    "    mfcc_delta = librosa.feature.delta(mfcc, width=7, order=1, trim=True)\n",
    "    return mfcc, mfcc_delta\n",
    "\n",
    "def parse_audio_files(file_names, file_labels):\n",
    "    features, features_delta, labels = np.empty((0,n_mfcc)), np.empty((0,n_mfcc)), np.empty(0)\n",
    "    for fn, fl in zip(file_names, file_labels):\n",
    "        try:\n",
    "            mfcc, mfcc_delta = extract_feature(fn)\n",
    "        except Exception as e:\n",
    "            print \"Error encountered while parsing file: \", fn\n",
    "            continue\n",
    "        features = np.vstack([features, mfcc])\n",
    "        features_delta = np.vstack([features_delta, mfcc_delta])\n",
    "        labels = np.append(labels, fl*np.ones(mfcc.shape[0]))\n",
    "    return np.array(features), np.array(features_delta), np.array(labels, dtype = np.int)\n",
    "\n",
    "def predict_proba(clf1, clf2, X_val):\n",
    "    pred_proba = np.empty((0,30))\n",
    "    for x in X_val:\n",
    "        x_mfcc, x_mfcc_delta = extract_feature(x)\n",
    "        y_pred_proba1 = np.sum(clf1.predict_proba(x_mfcc), axis=0).reshape(15)\n",
    "        y_pred_proba2 = np.sum(clf2.predict_proba(x_mfcc_delta), axis=0).reshape(15)\n",
    "        pred_proba = np.vstack([pred_proba,np.hstack([y_pred_proba1,y_pred_proba2])])\n",
    "        #print pred_proba.shape\n",
    "    return np.array(pred_proba, dtype=np.int)\n",
    "\n",
    "\n",
    "\"\"\"\n",
    "def predict(clf, X_test):\n",
    "    y_pred = np.empty(0)\n",
    "    y_pred_sum = np.empty(0)\n",
    "    y_pred_prod = np.empty(0)\n",
    "    for x in X_test:\n",
    "        x_mfccs = extract_feature(x)\n",
    "        y_predicts = clf.predict(x_mfccs)\n",
    "        y_predict_probas = clf.predict_proba(x_mfccs)\n",
    "        y_pred = np.append(y_pred, mode(y_predicts).mode[0])\n",
    "        y_pred_sum = np.append(y_pred_sum, np.argmax(np.sum(y_predict_probas, axis=0)))\n",
    "        y_pred_prod = np.append(y_pred_prod, np.argmax(np.prod(y_predict_probas, axis=0)))\n",
    "    return np.array(y_pred, dtype=np.int), np.array(y_pred_sum, dtype=np.int), np.array(y_pred_prod, dtype=np.int)\n",
    "\n",
    "def predict_maj(clf, X_test):\n",
    "    y_pred = np.empty(0)\n",
    "    for x in X_test:\n",
    "        x_mfccs = extract_feature(x)\n",
    "        y_predicts = clf.predict(x_mfccs)\n",
    "        y_pred = np.append(y_pred, mode(y_predicts).mode[0])\n",
    "    return np.array(y_pred, dtype = np.int)\n",
    "\n",
    "def predict_sum(clf, X_test):\n",
    "    y_pred = np.empty(0)\n",
    "    for x in X_test:\n",
    "        x_mfccs = extract_feature(x)\n",
    "        y_predicts = np.sum(clf.predict_proba(x_mfccs), axis=0)\n",
    "        y_pred = np.append(y_pred, np.argmax(y_predicts))\n",
    "    return np.array(y_pred, dtype = np.int)\n",
    "\n",
    "def predict_prod(clf, X_test):\n",
    "    y_pred = np.empty(0)\n",
    "    for x in X_test:\n",
    "        x_mfccs = extract_feature(x)\n",
    "        y_predicts = np.prod(clf.predict_proba(x_mfccs), axis=0)\n",
    "        y_pred = np.append(y_pred, np.argmax(y_predicts))\n",
    "    return np.array(y_pred, dtype = np.int)\n",
    "\"\"\"\n",
    "\n",
    "def plot_wave(title, raw_sound):\n",
    "    plt.close('all')\n",
    "    plt.figure(figsize=(20,6))\n",
    "    plt.title(title)\n",
    "    librosa.display.waveplot(np.array(raw_sound), sr=16000)\n",
    "    plt.show()\n",
    "    \n",
    "def plot_specgram(title,raw_sound):\n",
    "    plt.close('all')\n",
    "    plt.figure(figsize=(20,6))\n",
    "    plt.title(title)\n",
    "    plt.specgram(np.array(raw_sound), Fs=16000)\n",
    "    plt.show()\n",
    "\n",
    "def plot_log_power_specgram(title,raw_sound):\n",
    "    plt.close('all')\n",
    "    plt.figure(figsize=(20,6))\n",
    "    plt.title(title)\n",
    "    D = librosa.logamplitude(np.abs(librosa.stft(raw_sound))**2, ref_power=np.max)\n",
    "    librosa.display.specshow(D, x_axis='time' ,y_axis='log')\n",
    "    plt.specgram(np.array(f), Fs=16000)\n",
    "    plt.show()"
   ]
  },
  {
   "cell_type": "code",
   "execution_count": 4,
   "metadata": {
    "collapsed": false
   },
   "outputs": [
    {
     "name": "stdout",
     "output_type": "stream",
     "text": [
      "Loading files...\n",
      "Training set size: 582\n",
      "Validation set size: 290\n",
      "Test set size: 298\n",
      "Done in 0.015s.\n"
     ]
    }
   ],
   "source": [
    "# Read data and preprocessing\n",
    "print \"Loading files...\"\n",
    "t0 = time()\n",
    "FILEROOT = './'\n",
    "\n",
    "files_train = pd.read_csv('train.txt', sep='\\s+', header=None)[0].values\n",
    "labels = np.unique(pd.read_csv('train.txt', sep='\\s+', header=None)[1])\n",
    "n_labels = len(labels)\n",
    "labels_train = pd.factorize(pd.read_csv('train.txt', sep='\\s+', header=None)[1])[0]\n",
    "files_val = pd.read_csv('dev.txt', sep='\\s+', header=None)[0].values\n",
    "labels_val = pd.factorize(pd.read_csv('dev.txt', sep='\\s+', header=None)[1])[0]\n",
    "files_test = pd.read_csv('test_files.txt', header=None)[0].values\n",
    "\n",
    "print \"Training set size: %d\" % len(files_train)\n",
    "print \"Validation set size: %d\" % len(files_val)\n",
    "print \"Test set size: %d\" % len(files_test)\n",
    "print \"Done in %0.3fs.\" % (time()-t0)"
   ]
  },
  {
   "cell_type": "code",
   "execution_count": 6,
   "metadata": {
    "collapsed": false,
    "scrolled": false
   },
   "outputs": [
    {
     "data": {
      "text/plain": [
       "'\\ny = load_sound_file(files_train[42])\\ny_harmonic, y_percussive = librosa.effects.hpss(y)\\nplot_wave(\"%s: original signal\" % labels[labels_train[42]], y)\\nplot_wave(\"%s: harmonic signal\" % labels[labels_train[42]], y_harmonic)\\nplot_wave(\"%s: percussive signal\" % labels[labels_train[42]], y_percussive)\\n'"
      ]
     },
     "execution_count": 6,
     "metadata": {},
     "output_type": "execute_result"
    }
   ],
   "source": [
    "\"\"\"\n",
    "y = load_sound_file(files_train[42])\n",
    "y_harmonic, y_percussive = librosa.effects.hpss(y)\n",
    "plot_wave(\"%s: original signal\" % labels[labels_train[42]], y)\n",
    "plot_wave(\"%s: harmonic signal\" % labels[labels_train[42]], y_harmonic)\n",
    "plot_wave(\"%s: percussive signal\" % labels[labels_train[42]], y_percussive)\n",
    "\"\"\""
   ]
  },
  {
   "cell_type": "code",
   "execution_count": 7,
   "metadata": {
    "collapsed": false
   },
   "outputs": [
    {
     "name": "stdout",
     "output_type": "stream",
     "text": [
      "Extracting features...\n",
      "(136770, 40) (136770, 40) (136770,)\n",
      "Done in 35.808s.\n"
     ]
    }
   ],
   "source": [
    "# Feature extraction\n",
    "print \"Extracting features...\"\n",
    "n_mfcc = 40\n",
    "t0 = time()\n",
    "X_train1, X_train2, y_train = parse_audio_files(files_train, labels_train)\n",
    "print X_train1.shape, X_train2.shape, y_train.shape\n",
    "print \"Done in %0.3fs.\" % (time()-t0)"
   ]
  },
  {
   "cell_type": "code",
   "execution_count": 10,
   "metadata": {
    "collapsed": false,
    "scrolled": false
   },
   "outputs": [
    {
     "name": "stdout",
     "output_type": "stream",
     "text": [
      "Training classifier...\n",
      "Training on MFCC done in 30.530s.\n",
      "Training on MFCC delta done in 39.967s.\n"
     ]
    }
   ],
   "source": [
    "# Train classifier\n",
    "print \"Training classifier...\"\n",
    "np.random.seed(42)\n",
    "t0 = time()\n",
    "clf1 = MLPClassifier(hidden_layer_sizes=(40), alpha=0.1)\n",
    "clf1.fit(X_train1, y_train)\n",
    "print \"Training on MFCC done in %0.3fs.\" % (time()-t0)\n",
    "t0 = time()\n",
    "clf2 = MLPClassifier(hidden_layer_sizes=(40), alpha=0.1)\n",
    "clf2.fit(X_train2, y_train)\n",
    "print \"Training on MFCC delta done in %0.3fs.\" % (time()-t0)"
   ]
  },
  {
   "cell_type": "code",
   "execution_count": 14,
   "metadata": {
    "collapsed": false
   },
   "outputs": [
    {
     "name": "stdout",
     "output_type": "stream",
     "text": [
      "(8700,)\n",
      "(290,)\n"
     ]
    }
   ],
   "source": [
    "print pred_proba_val.shape\n",
    "print labels_val.shape"
   ]
  },
  {
   "cell_type": "code",
   "execution_count": 33,
   "metadata": {
    "collapsed": false
   },
   "outputs": [],
   "source": [
    "pred_proba_val = predict_proba(clf1, clf2, files_val)\n",
    "pred_proba_test = predict_proba(clf1, clf2, files_test)"
   ]
  },
  {
   "cell_type": "code",
   "execution_count": 70,
   "metadata": {
    "collapsed": false,
    "scrolled": false
   },
   "outputs": [
    {
     "name": "stdout",
     "output_type": "stream",
     "text": [
      "Score calibration...\n",
      "Done in 0.013s.\n"
     ]
    }
   ],
   "source": [
    "print \"Score calibration...\"\n",
    "t0 = time()\n",
    "logistic = linear_model.LogisticRegression(C=0.000085)\n",
    "logistic.fit(pred_proba_val, labels_val)\n",
    "print \"Done in %0.3fs.\" % (time()-t0)"
   ]
  },
  {
   "cell_type": "code",
   "execution_count": 71,
   "metadata": {
    "collapsed": false
   },
   "outputs": [
    {
     "name": "stdout",
     "output_type": "stream",
     "text": [
      "[10  8  3  7 14  5  7  9  3  7 10 12  6 14 11  5  4  8  0  8  8  6  7  7 11\n",
      " 11  2  7  2  3 14  1 10 12  8  5  3  3  0  4  7  0  0  7  6 12  4  6  3  7\n",
      " 12  6  7 12 12  7  8  6  5 12  7  4  9 12  2 13  6  7  3  4  0 13 12  7  4\n",
      "  2  1  9  1 10 12  0  4  2  4  3 14 13  1  9  4 14 10  6 13  1  7 10  5  9\n",
      "  1 13  6  6 10  0  7  7  5 13  4 12 13  2  3 11  0  9  9 10 13  3  4  9  1\n",
      "  1  1 12  4  5 13  7  1 10  2  2 12 12 12 14 12  5 12  8  3  3  8  7  1  8\n",
      "  7  3  3 13  9 13 12  0  1  6  7  4  8  9 13 13  9  5  7  7 14 13  0  0 12\n",
      "  9  8  7 12  5  5  6  4  2  5  6  4 13  5  9 13  7  4 12  9  3  9  9  8  0\n",
      "  1 10 14  3 12  0 13 14 13  4  9  6  2 10 12  4  2 14  2 14  2  7  3 13  8\n",
      "  4 13  1  2  2  9 12  4 10  4  7  8  5  4  5  8  7  3 12  7  5  4  7 12 13\n",
      "  4  2 14  6 10  5 14  5  1  8 10  7 12  7  8 12  5  0 14  4 10  3  6 13  4\n",
      " 12  2 14  8  7  9  5  3 14  2  6 10 14  4  0  9 10  0  9  8  9  5 12]\n"
     ]
    }
   ],
   "source": [
    "y_test_pred = logistic.predict(pred_proba_test)\n",
    "np.savetxt('y_test_pred_mfcc_delta_mfcc_mlp_logistic.txt', y_test_pred, fmt='%d')\n",
    "print y_test_pred"
   ]
  },
  {
   "cell_type": "code",
   "execution_count": null,
   "metadata": {
    "collapsed": true
   },
   "outputs": [],
   "source": []
  }
 ],
 "metadata": {
  "kernelspec": {
   "display_name": "Python 2",
   "language": "python",
   "name": "python2"
  },
  "language_info": {
   "codemirror_mode": {
    "name": "ipython",
    "version": 2
   },
   "file_extension": ".py",
   "mimetype": "text/x-python",
   "name": "python",
   "nbconvert_exporter": "python",
   "pygments_lexer": "ipython2",
   "version": "2.7.13"
  }
 },
 "nbformat": 4,
 "nbformat_minor": 2
}
